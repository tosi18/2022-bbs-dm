{
 "cells": [
  {
   "cell_type": "markdown",
   "id": "4ae284be",
   "metadata": {},
   "source": [
    "# Data preprocessing\n",
    "\n",
    "Pandas is the shorthand for 'Python and Data Analysis'. It provides a rich set of features for exploring and manipulating data, making it the go-to toolkit for a lot of data scientists.\n",
    "\n",
    "Check also: https://pandas.pydata.org/"
   ]
  },
  {
   "cell_type": "code",
   "execution_count": null,
   "id": "3932b785",
   "metadata": {
    "scrolled": false
   },
   "outputs": [],
   "source": [
    "import numpy as np\n",
    "import pandas as pd\n",
    "print(pd.__version__)"
   ]
  },
  {
   "cell_type": "markdown",
   "id": "0451be9e",
   "metadata": {},
   "source": [
    "Creating some pandas series..."
   ]
  },
  {
   "cell_type": "code",
   "execution_count": null,
   "id": "205a800c",
   "metadata": {},
   "outputs": [],
   "source": [
    "ser_a = pd.Series([1, 2, 3, 4], index=[\"a\", \"b\", \"c\", \"d\"])\n",
    "ser_b = pd.Series([1, 2, 3, 4], index=[\"b\", \"a\", \"c\", \"d\"])\n",
    "\n",
    "ser_a + ser_b"
   ]
  },
  {
   "cell_type": "markdown",
   "id": "4fbe3136",
   "metadata": {},
   "source": [
    "... doing some element-wise operations"
   ]
  },
  {
   "cell_type": "code",
   "execution_count": null,
   "id": "50a5bde6",
   "metadata": {},
   "outputs": [],
   "source": [
    "ser_a + ser_b\n",
    "ser_a - ser_b\n",
    "ser_a * ser_b\n",
    "ser_a / ser_b"
   ]
  },
  {
   "cell_type": "markdown",
   "id": "2dfc9af7",
   "metadata": {},
   "source": [
    "... doing some aggregation "
   ]
  },
  {
   "cell_type": "code",
   "execution_count": null,
   "id": "b2c64c8e",
   "metadata": {},
   "outputs": [],
   "source": [
    "ser_c = pd.Series([1, np.nan, 3, 4], index=[\"a\", \"b\", \"c\", \"d\"])\n",
    "print(ser_c.dtype)               # Which dtype has `ser_c`?\n",
    "\n",
    "ser_c.count()             # => 3\n",
    "ser_c.sum()               # => 8\n",
    "ser_c.mean()              # => 2.67\n",
    "ser_c.mean(skipna=False)  # => nan\n",
    "ser_c.max()               # => 4\n",
    "ser_c.min()               # => 1\n",
    "ser_c.idxmax()            # => \"d\"\n",
    "\n",
    "ser_d = pd.Series([1, \"a\", 3, 4], index=[\"a\", \"b\", \"c\", \"d\"])\n",
    "print(ser_d.dtype)        # which dtype has `ser_d`?\n",
    "\n",
    "ser_e = pd.Series([1, 1, 1, np.nan, 3, 4])\n",
    "ser_e"
   ]
  },
  {
   "cell_type": "markdown",
   "id": "6e3c0fec",
   "metadata": {},
   "source": [
    "Cheking unique values"
   ]
  },
  {
   "cell_type": "code",
   "execution_count": null,
   "id": "bff9fa20",
   "metadata": {},
   "outputs": [],
   "source": [
    "ser_e.unique() # => [ 1., nan,  3.,  4.]\n",
    "ser_e.nunique() # => 3\n",
    "ser_e.value_counts()"
   ]
  },
  {
   "cell_type": "code",
   "execution_count": null,
   "id": "a1d99dac",
   "metadata": {},
   "outputs": [],
   "source": [
    "ser_e.hist(bins=10)"
   ]
  },
  {
   "cell_type": "markdown",
   "id": "5f608753",
   "metadata": {},
   "source": [
    "Checking null values"
   ]
  },
  {
   "cell_type": "code",
   "execution_count": null,
   "id": "5c2f6e66",
   "metadata": {},
   "outputs": [],
   "source": [
    "df = pd.DataFrame() # create an empty dataframe\n",
    "df[\"ser_e\"] = ser_e # add the column \"ser_e\"\n",
    "df[\"isna\"] = ser_e.isna() # add the column \"isna\", True if the value is NaN\n",
    "df[\"notna\"] = ser_e.notna() # add the column \"notna\", False if the value is NaN\n",
    "df"
   ]
  },
  {
   "cell_type": "code",
   "execution_count": null,
   "id": "fba624ad",
   "metadata": {},
   "outputs": [],
   "source": [
    "ser_e.mean() # the mean is 2\n",
    "# fill the missing value with the average\n",
    "df[\"mean\"] = ser_e.fillna(ser_e.mean())\n",
    "df"
   ]
  },
  {
   "cell_type": "code",
   "execution_count": null,
   "id": "06d6b70f",
   "metadata": {
    "scrolled": true
   },
   "outputs": [],
   "source": [
    "# fill the missing value with the previous (not NaN) value\n",
    "df[\"ffill\"] = ser_e.fillna(method=\"ffill\")\n",
    "df"
   ]
  },
  {
   "cell_type": "code",
   "execution_count": null,
   "id": "0e8f5d63",
   "metadata": {
    "scrolled": true
   },
   "outputs": [],
   "source": [
    "# fill the missing value with the following (not NaN) value\n",
    "df[\"bfill\"] = ser_e.fillna(method=\"bfill\")\n",
    "df"
   ]
  },
  {
   "cell_type": "code",
   "execution_count": null,
   "id": "1aebd691",
   "metadata": {
    "scrolled": true
   },
   "outputs": [],
   "source": [
    "ser_e.dropna()"
   ]
  },
  {
   "cell_type": "markdown",
   "id": "41e9895a",
   "metadata": {},
   "source": [
    "Creating pandas dataframes"
   ]
  },
  {
   "cell_type": "code",
   "execution_count": null,
   "id": "20628a6f",
   "metadata": {},
   "outputs": [],
   "source": [
    "# create a dataframe with random data\n",
    "import random\n",
    "random.seed(3)\n",
    "df = pd.DataFrame([[random.randint(0, 9) for i in range(10)] for i in range(5)],\n",
    "                  index=[i for i in range(5)], \n",
    "                  columns=list('abcdefghij'))\n",
    "df"
   ]
  },
  {
   "cell_type": "markdown",
   "id": "17382ff5",
   "metadata": {},
   "source": [
    "Doing some operations with pandas dataframes"
   ]
  },
  {
   "cell_type": "code",
   "execution_count": null,
   "id": "3dba1b0f",
   "metadata": {},
   "outputs": [],
   "source": [
    "# Select a column (i.e., a series)\n",
    "df['a']\n",
    "\n",
    "# Add another column\n",
    "df['k'] = df['a'] * df['b']\n",
    "\n",
    "# Get the headers (i.e., the column names)\n",
    "df.columns\n",
    "\n",
    "# Get just the first two rows\n",
    "df.head(2)\n",
    "\n",
    "# Get just the last two rows\n",
    "df.tail(2)\n",
    "\n",
    "# Sort the dataframe by columns\n",
    "df.sort_values(by=['a', 'b'], ascending=[False, True])\n",
    "\n",
    "# To get some statistics (e.g., count, mean, std, min, etc.)\n",
    "df.describe()"
   ]
  },
  {
   "cell_type": "markdown",
   "id": "cad18c8a",
   "metadata": {},
   "source": [
    "Why is the `mean` around 4.0 and 5.0?"
   ]
  }
 ],
 "metadata": {
  "kernelspec": {
   "display_name": "Python 3 (ipykernel)",
   "language": "python",
   "name": "python3"
  },
  "language_info": {
   "codemirror_mode": {
    "name": "ipython",
    "version": 3
   },
   "file_extension": ".py",
   "mimetype": "text/x-python",
   "name": "python",
   "nbconvert_exporter": "python",
   "pygments_lexer": "ipython3",
   "version": "3.10.2"
  }
 },
 "nbformat": 4,
 "nbformat_minor": 5
}
