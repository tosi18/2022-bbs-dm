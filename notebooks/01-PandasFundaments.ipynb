{
  "cells": [
    {
      "cell_type": "markdown",
      "metadata": {
        "id": "view-in-github",
        "colab_type": "text"
      },
      "source": [
        "<a href=\"https://colab.research.google.com/github/w4bo/2022-bbs-dm/blob/main/notebooks/01-PandasFundaments.ipynb\" target=\"_parent\"><img src=\"https://colab.research.google.com/assets/colab-badge.svg\" alt=\"Open In Colab\"/></a>"
      ]
    },
    {
      "cell_type": "markdown",
      "id": "4ae284be",
      "metadata": {
        "id": "4ae284be"
      },
      "source": [
        "# Data preprocessing\n",
        "\n",
        "Pandas is the shorthand for 'Python and Data Analysis'. It provides a rich set of features for exploring and manipulating data, making it the go-to toolkit for a lot of data scientists.\n",
        "\n",
        "Check also: https://pandas.pydata.org/"
      ]
    },
    {
      "cell_type": "markdown",
      "source": [
        "In case you need help with Python fundametals, check:\n",
        "- https://github.com/w4bo/2022-bbs-dm/blob/main/notebooks/00-PythonFundamentals.ipynb\n",
        "- https://learnxinyminutes.com/docs/python/"
      ],
      "metadata": {
        "id": "xZ8wX2IL_5MN"
      },
      "id": "xZ8wX2IL_5MN"
    },
    {
      "cell_type": "code",
      "execution_count": null,
      "id": "3932b785",
      "metadata": {
        "scrolled": false,
        "id": "3932b785"
      },
      "outputs": [],
      "source": [
        "import numpy as np\n",
        "import pandas as pd\n",
        "print(pd.__version__)"
      ]
    },
    {
      "cell_type": "markdown",
      "id": "0451be9e",
      "metadata": {
        "id": "0451be9e"
      },
      "source": [
        "Creating some pandas series..."
      ]
    },
    {
      "cell_type": "code",
      "execution_count": null,
      "id": "205a800c",
      "metadata": {
        "id": "205a800c"
      },
      "outputs": [],
      "source": [
        "ser_a = pd.Series([1, 2, 3, 4], index=[\"a\", \"b\", \"c\", \"d\"])\n",
        "ser_b = pd.Series([1, 2, 3, 4], index=[\"b\", \"a\", \"c\", \"d\"])\n",
        "\n",
        "ser_a + ser_b"
      ]
    },
    {
      "cell_type": "markdown",
      "id": "4fbe3136",
      "metadata": {
        "id": "4fbe3136"
      },
      "source": [
        "... doing some element-wise operations"
      ]
    },
    {
      "cell_type": "code",
      "execution_count": null,
      "id": "50a5bde6",
      "metadata": {
        "id": "50a5bde6"
      },
      "outputs": [],
      "source": [
        "ser_a + ser_b\n",
        "ser_a - ser_b\n",
        "ser_a * ser_b\n",
        "ser_a / ser_b"
      ]
    },
    {
      "cell_type": "markdown",
      "id": "2dfc9af7",
      "metadata": {
        "id": "2dfc9af7"
      },
      "source": [
        "... doing some aggregation "
      ]
    },
    {
      "cell_type": "code",
      "execution_count": null,
      "id": "b2c64c8e",
      "metadata": {
        "id": "b2c64c8e"
      },
      "outputs": [],
      "source": [
        "ser_c = pd.Series([1, np.nan, 3, 4], index=[\"a\", \"b\", \"c\", \"d\"])\n",
        "print(ser_c.dtype)               # Which dtype has `ser_c`?\n",
        "\n",
        "ser_c.count()             # => 3\n",
        "ser_c.sum()               # => 8\n",
        "ser_c.mean()              # => 2.67\n",
        "ser_c.mean(skipna=False)  # => nan\n",
        "ser_c.max()               # => 4\n",
        "ser_c.min()               # => 1\n",
        "ser_c.idxmax()            # => \"d\"\n",
        "\n",
        "ser_d = pd.Series([1, \"a\", 3, 4], index=[\"a\", \"b\", \"c\", \"d\"])\n",
        "print(ser_d.dtype)        # which dtype has `ser_d`?\n",
        "\n",
        "ser_e = pd.Series([1, 1, 1, np.nan, 3, 4])\n",
        "ser_e"
      ]
    },
    {
      "cell_type": "markdown",
      "id": "6e3c0fec",
      "metadata": {
        "id": "6e3c0fec"
      },
      "source": [
        "Cheking unique values"
      ]
    },
    {
      "cell_type": "code",
      "execution_count": null,
      "id": "bff9fa20",
      "metadata": {
        "id": "bff9fa20"
      },
      "outputs": [],
      "source": [
        "ser_e.unique() # => [ 1., nan,  3.,  4.]\n",
        "ser_e.nunique() # => 3\n",
        "ser_e.value_counts()"
      ]
    },
    {
      "cell_type": "code",
      "execution_count": null,
      "id": "a1d99dac",
      "metadata": {
        "id": "a1d99dac"
      },
      "outputs": [],
      "source": [
        "ser_e.hist(bins=10)"
      ]
    },
    {
      "cell_type": "markdown",
      "id": "5f608753",
      "metadata": {
        "id": "5f608753"
      },
      "source": [
        "Checking null values"
      ]
    },
    {
      "cell_type": "code",
      "execution_count": null,
      "id": "5c2f6e66",
      "metadata": {
        "id": "5c2f6e66"
      },
      "outputs": [],
      "source": [
        "df = pd.DataFrame() # create an empty dataframe\n",
        "df[\"ser_e\"] = ser_e # add the column \"ser_e\"\n",
        "df[\"isna\"] = ser_e.isna() # add the column \"isna\", True if the value is NaN\n",
        "df[\"notna\"] = ser_e.notna() # add the column \"notna\", False if the value is NaN\n",
        "df"
      ]
    },
    {
      "cell_type": "code",
      "execution_count": null,
      "id": "fba624ad",
      "metadata": {
        "id": "fba624ad"
      },
      "outputs": [],
      "source": [
        "ser_e.mean() # the mean is 2\n",
        "# fill the missing value with the average\n",
        "df[\"mean\"] = ser_e.fillna(ser_e.mean())\n",
        "df"
      ]
    },
    {
      "cell_type": "code",
      "execution_count": null,
      "id": "06d6b70f",
      "metadata": {
        "scrolled": true,
        "id": "06d6b70f"
      },
      "outputs": [],
      "source": [
        "# fill the missing value with the previous (not NaN) value\n",
        "df[\"ffill\"] = ser_e.fillna(method=\"ffill\")\n",
        "df"
      ]
    },
    {
      "cell_type": "code",
      "execution_count": null,
      "id": "0e8f5d63",
      "metadata": {
        "scrolled": true,
        "id": "0e8f5d63"
      },
      "outputs": [],
      "source": [
        "# fill the missing value with the following (not NaN) value\n",
        "df[\"bfill\"] = ser_e.fillna(method=\"bfill\")\n",
        "df"
      ]
    },
    {
      "cell_type": "code",
      "execution_count": null,
      "id": "1aebd691",
      "metadata": {
        "scrolled": true,
        "id": "1aebd691"
      },
      "outputs": [],
      "source": [
        "ser_e.dropna()"
      ]
    },
    {
      "cell_type": "markdown",
      "id": "41e9895a",
      "metadata": {
        "id": "41e9895a"
      },
      "source": [
        "Creating pandas dataframes"
      ]
    },
    {
      "cell_type": "code",
      "execution_count": null,
      "id": "20628a6f",
      "metadata": {
        "id": "20628a6f"
      },
      "outputs": [],
      "source": [
        "# create a dataframe with random data\n",
        "import random\n",
        "random.seed(3)\n",
        "df = pd.DataFrame([[random.randint(0, 9) for i in range(10)] for i in range(5)],\n",
        "                  index=[i for i in range(5)], \n",
        "                  columns=list('abcdefghij'))\n",
        "df"
      ]
    },
    {
      "cell_type": "markdown",
      "id": "17382ff5",
      "metadata": {
        "id": "17382ff5"
      },
      "source": [
        "Doing some operations with pandas dataframes"
      ]
    },
    {
      "cell_type": "code",
      "execution_count": null,
      "id": "3dba1b0f",
      "metadata": {
        "id": "3dba1b0f"
      },
      "outputs": [],
      "source": [
        "# Select a column (i.e., a series)\n",
        "df['a']\n",
        "\n",
        "# Add another column\n",
        "df['k'] = df['a'] * df['b']\n",
        "\n",
        "# Get the headers (i.e., the column names)\n",
        "df.columns\n",
        "\n",
        "# Get just the first two rows\n",
        "df.head(2)\n",
        "\n",
        "# Get just the last two rows\n",
        "df.tail(2)\n",
        "\n",
        "# Sort the dataframe by columns\n",
        "df.sort_values(by=['a', 'b'], ascending=[False, True])\n",
        "\n",
        "# To get some statistics (e.g., count, mean, std, min, etc.)\n",
        "df.describe()"
      ]
    },
    {
      "cell_type": "markdown",
      "id": "cad18c8a",
      "metadata": {
        "id": "cad18c8a"
      },
      "source": [
        "Why is the `mean` around 4.0 and 5.0?"
      ]
    }
  ],
  "metadata": {
    "kernelspec": {
      "display_name": "Python 3 (ipykernel)",
      "language": "python",
      "name": "python3"
    },
    "language_info": {
      "codemirror_mode": {
        "name": "ipython",
        "version": 3
      },
      "file_extension": ".py",
      "mimetype": "text/x-python",
      "name": "python",
      "nbconvert_exporter": "python",
      "pygments_lexer": "ipython3",
      "version": "3.10.2"
    },
    "colab": {
      "name": "01-PandasFundaments.ipynb",
      "provenance": [],
      "include_colab_link": true
    }
  },
  "nbformat": 4,
  "nbformat_minor": 5
}