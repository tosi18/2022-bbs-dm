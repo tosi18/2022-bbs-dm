{
  "cells": [
    {
      "cell_type": "markdown",
      "metadata": {
        "id": "view-in-github",
        "colab_type": "text"
      },
      "source": [
        "<a href=\"https://colab.research.google.com/github/w4bo/2022-bbs-dm/blob/main/notebooks/03-Housing-MachineLearning.ipynb\" target=\"_parent\"><img src=\"https://colab.research.google.com/assets/colab-badge.svg\" alt=\"Open In Colab\"/></a>"
      ]
    },
    {
      "cell_type": "markdown",
      "id": "4ae284be",
      "metadata": {
        "id": "4ae284be"
      },
      "source": [
        "# Scikit-learn, Machine Learning in Python\n",
        "- Simple and efficient tools for predictive data analysis\n",
        "- Accessible to everybody, and reusable in various contexts\n",
        "- Built on NumPy, SciPy, and matplotlib\n",
        "- Open source, commercially usable - BSD license\n",
        "\n",
        "\n",
        "Check also: \n",
        "- https://scikit-learn.org/stable/index.html\n",
        "- https://scikit-learn.org/stable/modules/tree.html"
      ]
    },
    {
      "cell_type": "markdown",
      "source": [
        "In case you need help with preprocessing, check:\n",
        "- https://github.com/w4bo/2022-bbs-dm/blob/main/notebooks/02-Housing-DataPreprocessing.ipynb"
      ],
      "metadata": {
        "id": "cK2KcyhVBJIi"
      },
      "id": "cK2KcyhVBJIi"
    },
    {
      "cell_type": "code",
      "execution_count": null,
      "id": "3932b785",
      "metadata": {
        "scrolled": false,
        "id": "3932b785"
      },
      "outputs": [],
      "source": [
        "!pip install paretoset \n",
        "\n",
        "from paretoset import paretoset\n",
        "import numpy as np\n",
        "import pandas as pd\n",
        "import matplotlib.pyplot as plt\n",
        "from sklearn.metrics import mean_squared_error\n",
        "import seaborn as sns\n",
        "np.random.seed(42)  # why are we fixing the seed?"
      ]
    },
    {
      "cell_type": "markdown",
      "id": "0a45a8f4",
      "metadata": {
        "id": "0a45a8f4"
      },
      "source": [
        "Solution of the previous `Hands on`"
      ]
    },
    {
      "cell_type": "code",
      "execution_count": null,
      "id": "87eb7c60",
      "metadata": {
        "id": "87eb7c60"
      },
      "outputs": [],
      "source": [
        "def preprocess(normalize=True):\n",
        "    # df = pd.read_csv(\"datasets/housing.csv\", delimiter=\",\")\n",
        "    df = pd.read_csv(\"https://raw.githubusercontent.com/w4bo/2022-bbs-dm/main/notebooks/datasets/housing.csv\", delimiter=\",\")\n",
        "\n",
        "    num_df = df.drop(columns=[\"ocean_proximity\", \"median_house_value\"])\n",
        "\n",
        "    # Filling in (i.e., impute) missing values with the median value \n",
        "    num_df[\"total_bedrooms\"] = num_df[\"total_bedrooms\"].fillna(num_df[\"total_bedrooms\"].median())\n",
        "\n",
        "    # Add a new column: population_per_household = population / households\n",
        "    num_df[\"population_per_household\"] = num_df[\"population\"] / num_df[\"households\"]\n",
        "\n",
        "    # Add a new column: rooms_per_household = total_rooms / households\n",
        "    num_df[\"rooms_per_household\"] = num_df[\"total_rooms\"] / num_df[\"households\"]\n",
        "\n",
        "    # Add a new column: bedrooms_per_room = total_bedrooms / total_rooms\n",
        "    num_df[\"bedrooms_per_room\"] = num_df[\"total_bedrooms\"] / num_df[\"total_rooms\"]\n",
        "\n",
        "    if normalize:\n",
        "        # Apply standardization to all the numeric columns\n",
        "        num_df = (num_df - num_df.mean()) / num_df.std()\n",
        "\n",
        "    # One hot encode `ocean_proximity` since it is a categorical attribute \n",
        "    cat_df = pd.get_dummies(df[\"ocean_proximity\"], prefix='ocean_proximity')\n",
        "\n",
        "    # Join all the dataframes\n",
        "    return pd.concat([num_df, cat_df, df[[\"median_house_value\"]]], axis=1) # do not change this line\n",
        "\n",
        "df = preprocess(False)\n",
        "df"
      ]
    },
    {
      "cell_type": "code",
      "source": [
        "tmp = df[[\"population_per_household\", \"rooms_per_household\", \"bedrooms_per_room\", \"median_house_value\"]]\n",
        "sns.pairplot(tmp.sample(n=1000, random_state=42), markers='+')\n",
        "plt.show()"
      ],
      "metadata": {
        "id": "1e5d0w03eCTJ"
      },
      "id": "1e5d0w03eCTJ",
      "execution_count": null,
      "outputs": []
    },
    {
      "cell_type": "markdown",
      "source": [
        "Before delving into machine learning, which are the houses the represent a good tradeof between cost and number of rooms?"
      ],
      "metadata": {
        "id": "ABkcou7nVhla"
      },
      "id": "ABkcou7nVhla"
    },
    {
      "cell_type": "code",
      "source": [
        "fig, ax = plt.subplots(nrows=1, ncols=1)\n",
        "df.plot.scatter(x='median_house_value', y='total_bedrooms', ax=ax)"
      ],
      "metadata": {
        "id": "6LonxzVuX_RZ"
      },
      "id": "6LonxzVuX_RZ",
      "execution_count": null,
      "outputs": []
    },
    {
      "cell_type": "code",
      "source": [
        "mask = paretoset(df[[\"median_house_value\", \"total_bedrooms\"]], sense=[\"min\", \"max\"])\n",
        "df[mask].plot.scatter(x='median_house_value', y='total_bedrooms', ax=ax, c='red')\n",
        "fig"
      ],
      "metadata": {
        "id": "Jb8AQJvgWLf_"
      },
      "id": "Jb8AQJvgWLf_",
      "execution_count": null,
      "outputs": []
    },
    {
      "cell_type": "code",
      "source": [
        "fig, ax = plt.subplots(nrows=1, ncols=1)\n",
        "df.plot.scatter(x=\"housing_median_age\", y=\"total_bedrooms\", c=\"median_house_value\", ax=ax)"
      ],
      "metadata": {
        "id": "OlBO5VuFZg2E"
      },
      "id": "OlBO5VuFZg2E",
      "execution_count": null,
      "outputs": []
    },
    {
      "cell_type": "code",
      "source": [
        "mask = paretoset(df[[\"housing_median_age\", \"total_bedrooms\", \"median_house_value\"]], sense=[\"min\", \"max\", \"min\"])\n",
        "df[mask].plot.scatter(x=\"housing_median_age\", y=\"total_bedrooms\", ax=ax, c='red')\n",
        "fig"
      ],
      "metadata": {
        "id": "cLGHSt0TZP8U"
      },
      "id": "cLGHSt0TZP8U",
      "execution_count": null,
      "outputs": []
    },
    {
      "cell_type": "markdown",
      "id": "1dc20801",
      "metadata": {
        "id": "1dc20801"
      },
      "source": [
        "For a supervised learning problem we need:\n",
        "- input data along with labels\n",
        "- split data between test and training set. How?"
      ]
    },
    {
      "cell_type": "code",
      "execution_count": null,
      "id": "21a9526a",
      "metadata": {
        "id": "21a9526a"
      },
      "outputs": [],
      "source": [
        "# For illustration only. Sklearn has train_test_split()\n",
        "def split_train_test(data, test_ratio):\n",
        "    shuffled_indices = np.random.permutation(len(data)) # get a list of random numbers\n",
        "    test_set_size = int(len(data) * test_ratio) # define the size of test dataset\n",
        "    test_indices = shuffled_indices[:test_set_size] # the test dataset includes some indexes \n",
        "    train_indices = shuffled_indices[test_set_size:] # the train dataset includes the others (no overlapping)\n",
        "    return data.iloc[train_indices], data.iloc[test_indices] # return the two dataframes\n",
        "\n",
        "df = preprocess(True)\n",
        "df_train, df_test = split_train_test(df, 0.2) # get the train and test dataframes\n",
        "\n",
        "X_train = df_train.drop(columns=[\"median_house_value\"]).to_numpy() # get the train feature matrix\n",
        "X_test  = df_test.drop(columns=[\"median_house_value\"]).to_numpy() # get the test feature matrix\n",
        "y_train = df_train[\"median_house_value\"].to_numpy() # get the train label array\n",
        "y_test  = df_test[\"median_house_value\"].to_numpy() # get the test label array"
      ]
    },
    {
      "cell_type": "code",
      "execution_count": null,
      "id": "09fe3dce",
      "metadata": {
        "id": "09fe3dce"
      },
      "outputs": [],
      "source": [
        "from sklearn.model_selection import train_test_split\n",
        "y = df[\"median_house_value\"] # labels\n",
        "X = df.drop(columns=[\"median_house_value\"]) # input data\n",
        "X_train, X_test, y_train, y_test = train_test_split(X, y, test_size=0.33, random_state=42)"
      ]
    },
    {
      "cell_type": "code",
      "execution_count": null,
      "id": "613643ea",
      "metadata": {
        "id": "613643ea"
      },
      "outputs": [],
      "source": [
        "X_train"
      ]
    },
    {
      "cell_type": "code",
      "execution_count": null,
      "id": "456e291b",
      "metadata": {
        "id": "456e291b"
      },
      "outputs": [],
      "source": [
        "y_train"
      ]
    },
    {
      "cell_type": "markdown",
      "id": "90facd0d",
      "metadata": {
        "id": "90facd0d"
      },
      "source": [
        "Apply linear regression to forecast housing values\n",
        "\n",
        "https://scikit-learn.org/stable/modules/generated/sklearn.linear_model.LinearRegression.html\n",
        "\n",
        "\"LinearRegression fits a linear model with coefficients w = (w1, …, wp) to minimize the residual sum of squares between the observed targets in the dataset, and the targets predicted by the linear approximation.\""
      ]
    },
    {
      "cell_type": "code",
      "execution_count": null,
      "id": "805e7157",
      "metadata": {
        "id": "805e7157"
      },
      "outputs": [],
      "source": [
        "from sklearn.linear_model import LinearRegression # import the model\n",
        "\n",
        "lin_reg = LinearRegression() # initialize the model (i.e., the estimator)\n",
        "lin_reg.fit(X_train, y_train) # train it\n",
        "housing_predictions = lin_reg.predict(X_test) # predict the cost of houses in the test set\n",
        "\n",
        "lin_mse = mean_squared_error(y_test, housing_predictions) # check the error\n",
        "lin_rmse = np.sqrt(lin_mse) # apply the squared root of the error\n",
        "print(lin_rmse) # print it\n",
        "\n",
        "# visualize some predictions\n",
        "df = pd.DataFrame({'y_test': y_test[:10].to_numpy(), 'y_pred': housing_predictions[:10]}, index=[x for x in range(10)])\n",
        "df.plot.bar(rot=0)"
      ]
    },
    {
      "cell_type": "markdown",
      "id": "428764a9",
      "metadata": {
        "id": "428764a9"
      },
      "source": [
        "This is better than nothing, but clearly not a great score: most districts’ `median_housing_values` range between 120K USD and  265K USD, so a typical prediction error of ~70K USD is not very satisfying. This is an example of a model underfitting the training data.\n",
        "\n",
        "https://scikit-learn.org/stable/modules/generated/sklearn.ensemble.RandomForestRegressor.html\n",
        "\n",
        "\"A random forest is a meta estimator that fits a number of classifying decision trees on various sub-samples of the dataset and uses averaging to improve the predictive accuracy and control over-fitting. The sub-sample size is controlled with the max_samples parameter if bootstrap=True (default), otherwise the whole dataset is used to build each tree.\""
      ]
    },
    {
      "cell_type": "code",
      "execution_count": null,
      "id": "109abc76",
      "metadata": {
        "id": "109abc76"
      },
      "outputs": [],
      "source": [
        "from sklearn.ensemble import RandomForestRegressor # import the model\n",
        "\n",
        "def run_forest(n_estimators, max_features):\n",
        "    # initialize the model (i.e., the estimator)\n",
        "    forest_reg = RandomForestRegressor(n_estimators=n_estimators, max_features=max_features, random_state=42)\n",
        "    forest_reg.fit(X_train, y_train) # train it\n",
        "    housing_predictions = forest_reg.predict(X_test) # predict the cost of houses in the test set\n",
        "    \n",
        "    forest_rmse = mean_squared_error(y_test, housing_predictions, squared=True) # check the error\n",
        "    forest_rmse = np.sqrt(forest_rmse) # apply the squared root of the error\n",
        "    print(forest_rmse)\n",
        "    \n",
        "    df = pd.DataFrame({'y_test': y_test[:10].to_numpy(), 'y_pred': housing_predictions[:10]}, index=[x for x in range(10)])\n",
        "    df.plot.bar(rot=0)\n",
        "    return forest_reg\n",
        "\n",
        "forest_reg = run_forest(100, \"auto\")"
      ]
    },
    {
      "cell_type": "markdown",
      "id": "847f5256",
      "metadata": {
        "id": "847f5256"
      },
      "source": [
        "Look at parameters used by our current forest"
      ]
    },
    {
      "cell_type": "code",
      "execution_count": null,
      "id": "f0235826",
      "metadata": {
        "id": "f0235826"
      },
      "outputs": [],
      "source": [
        "forest_reg.get_params()"
      ]
    },
    {
      "cell_type": "markdown",
      "id": "20e4bbe7",
      "metadata": {
        "id": "20e4bbe7"
      },
      "source": [
        "https://scikit-learn.org/stable/modules/generated/sklearn.model_selection.RandomizedSearchCV.html\n",
        "    \n",
        "\"The parameters of the estimator used to apply these methods are optimized by cross-validated search over parameter settings. In contrast to GridSearchCV, not all parameter values are tried out, but rather a fixed number of parameter settings is sampled from the specified distributions. The number of parameter settings that are tried is given by `n_iter`.\""
      ]
    },
    {
      "cell_type": "code",
      "execution_count": null,
      "id": "8d94f505",
      "metadata": {
        "scrolled": true,
        "id": "8d94f505"
      },
      "outputs": [],
      "source": [
        "from sklearn.model_selection import RandomizedSearchCV\n",
        "\n",
        "n_estimators = [50, 100, 150]  # Number of trees in random forest\n",
        "# Number of features to consider at every split\n",
        "max_features = ['auto', 'sqrt']\n",
        "# auto -> n_features\n",
        "# sqrt -> max_features=sqrt(n_features)\n",
        "random_grid = {'n_estimators': n_estimators, 'max_features': max_features}\n",
        "\n",
        "# Fit the random search model\n",
        "rf_random = RandomizedSearchCV(estimator=forest_reg, param_distributions=random_grid, cv=3, verbose=2, random_state=42)\n",
        "rf_random.fit(X_train, y_train)\n",
        "rf_random.best_params_"
      ]
    },
    {
      "cell_type": "code",
      "execution_count": null,
      "id": "f40f18a9",
      "metadata": {
        "id": "f40f18a9"
      },
      "outputs": [],
      "source": [
        "run_forest(150, \"sqrt\")"
      ]
    },
    {
      "cell_type": "markdown",
      "id": "47f03591",
      "metadata": {
        "id": "47f03591"
      },
      "source": [
        "#### Dimensionality reduction"
      ]
    },
    {
      "cell_type": "code",
      "execution_count": null,
      "id": "41167ddd",
      "metadata": {
        "scrolled": true,
        "id": "41167ddd"
      },
      "outputs": [],
      "source": [
        "from sklearn.decomposition import PCA\n",
        "\n",
        "pca = PCA(n_components=2)\n",
        "result = pca.fit_transform(X_train.values)\n",
        "\n",
        "plt.scatter(\n",
        "    x=result[:,0], \n",
        "    y=result[:,1] , \n",
        "    c=y_train,\n",
        "    cmap='viridis'\n",
        ")"
      ]
    },
    {
      "cell_type": "code",
      "execution_count": null,
      "id": "3b18f9db",
      "metadata": {
        "scrolled": false,
        "id": "3b18f9db"
      },
      "outputs": [],
      "source": [
        "# Dump components relations with features\n",
        "pd.DataFrame(pca.components_, columns=X_train.columns, index=['PC1', 'PC2'])"
      ]
    },
    {
      "cell_type": "code",
      "execution_count": 78,
      "id": "3d92101d",
      "metadata": {
        "id": "3d92101d",
        "outputId": "fe2a9ed6-550a-45b4-e6b3-df2729a2bdd0",
        "colab": {
          "base_uri": "https://localhost:8080/",
          "height": 282
        }
      },
      "outputs": [
        {
          "output_type": "execute_result",
          "data": {
            "text/plain": [
              "<matplotlib.collections.PathCollection at 0x7f5148273650>"
            ]
          },
          "metadata": {},
          "execution_count": 78
        },
        {
          "output_type": "display_data",
          "data": {
            "text/plain": [
              "<Figure size 432x288 with 1 Axes>"
            ],
            "image/png": "[encoded data removed]"
          },
          "metadata": {
            "needs_background": "light"
          }
        }
      ],
      "source": [
        "from sklearn.manifold import TSNE\n",
        "\n",
        "tsne = TSNE(n_components=2)\n",
        "result = tsne.fit_transform(X_train.head(2000))\n",
        "\n",
        "plt.scatter(\n",
        "    x=result[:,0], \n",
        "    y=result[:,1] , \n",
        "    c=y_train.head(2000).apply(lambda x: 0 if x == 'low' else (1 if x == 'medium' else 2)), \n",
        "    cmap='viridis'\n",
        ")"
      ]
    },
    {
      "cell_type": "markdown",
      "id": "7d65e48c",
      "metadata": {
        "id": "7d65e48c"
      },
      "source": [
        "#### Classification\n",
        "\n",
        "- Create classes (low, medium, high) from the target value\n",
        "- Create and fit a decision tree"
      ]
    },
    {
      "cell_type": "code",
      "execution_count": null,
      "id": "f16c0883",
      "metadata": {
        "scrolled": false,
        "id": "f16c0883",
        "outputId": "69945271-1f2a-45ec-b17a-fd26a2e332e9",
        "colab": {
          "base_uri": "https://localhost:8080/"
        }
      },
      "outputs": [
        {
          "output_type": "execute_result",
          "data": {
            "text/plain": [
              "<matplotlib.axes._subplots.AxesSubplot at 0x7f514841cc50>"
            ]
          },
          "metadata": {},
          "execution_count": 79
        }
      ],
      "source": [
        "df = preprocess(False) # clean the dataset withtout standardization\n",
        "bins = [\"low\", \"medium\", \"high\"] # the labels we are gonna use\n",
        "df[\"median_house_value\"] = pd.cut(df[\"median_house_value\"], 3, labels=bins) # map bins of values into labels\n",
        "df[\"median_house_value\"].hist() # plot them"
      ]
    },
    {
      "cell_type": "markdown",
      "id": "0a864ea4",
      "metadata": {
        "id": "0a864ea4"
      },
      "source": [
        "For the sake of performance, we are going to use a manually defined set of features"
      ]
    },
    {
      "cell_type": "code",
      "execution_count": null,
      "id": "eafc83b9",
      "metadata": {
        "id": "eafc83b9"
      },
      "outputs": [],
      "source": [
        "y = df[\"median_house_value\"] # labels\n",
        "X = df[[\"latitude\", \"longitude\", \"median_income\", \"population\", \"households\", \"total_bedrooms\"]] # consider only some features from the train dataset\n",
        "X_train, X_test, y_train, y_test = train_test_split(X, y, test_size=0.33, random_state=42) # split the dataset"
      ]
    },
    {
      "cell_type": "code",
      "execution_count": null,
      "id": "f6a910d0",
      "metadata": {
        "id": "f6a910d0"
      },
      "outputs": [],
      "source": [
        "from sklearn.metrics import accuracy_score\n",
        "from sklearn import tree\n",
        "\n",
        "clf = tree.DecisionTreeClassifier(criterion=\"entropy\", random_state=42) # initialize the model\n",
        "clf = clf.fit(X_train, y_train) # train it\n",
        "housing_predictions = clf.predict(X_test) # predict the cost of houses in the test set\n",
        "\n",
        "accuracy = accuracy_score(y_test, housing_predictions) # check the error\n",
        "accuracy"
      ]
    },
    {
      "cell_type": "code",
      "execution_count": null,
      "id": "0a816a7f",
      "metadata": {
        "id": "0a816a7f"
      },
      "outputs": [],
      "source": [
        "from sklearn.metrics import classification_report\n",
        "print(classification_report(y_test, housing_predictions, target_names=bins))"
      ]
    },
    {
      "cell_type": "code",
      "execution_count": null,
      "id": "017f3c68",
      "metadata": {
        "scrolled": true,
        "id": "017f3c68"
      },
      "outputs": [],
      "source": [
        "plt.figure(figsize=(20,12))\n",
        "tree.plot_tree(clf, fontsize=10, feature_names=X_train.columns, class_names=bins, max_depth=4)\n",
        "plt.show()"
      ]
    },
    {
      "cell_type": "code",
      "execution_count": null,
      "id": "16758662",
      "metadata": {
        "id": "16758662"
      },
      "outputs": [],
      "source": [
        "from sklearn.ensemble import RandomForestClassifier\n",
        "\n",
        "forest_cls = RandomForestClassifier(criterion=\"entropy\", random_state=42) # initialize the model\n",
        "forest_cls = forest_cls.fit(X_train, y_train) # train it\n",
        "housing_predictions = forest_cls.predict(X_test) # predict the cost of houses in the test set\n",
        "\n",
        "accuracy = accuracy_score(y_test, housing_predictions) # check the error\n",
        "accuracy"
      ]
    },
    {
      "cell_type": "code",
      "source": [
        "forest_cls.get_params()"
      ],
      "metadata": {
        "id": "nSpwWNJhQIG2"
      },
      "id": "nSpwWNJhQIG2",
      "execution_count": null,
      "outputs": []
    },
    {
      "cell_type": "code",
      "execution_count": null,
      "id": "d6b0e0b7",
      "metadata": {
        "scrolled": true,
        "id": "d6b0e0b7"
      },
      "outputs": [],
      "source": [
        "n_estimators = [50, 100, 150]  # Number of trees in random forest\n",
        "max_features = ['auto', 'sqrt'] # Number of features to consider at every split\n",
        "min_samples_leaf = [1, 5]\n",
        "max_depth = [2, 5]\n",
        "random_grid = {'n_estimators': n_estimators, 'max_features': max_features, 'min_samples_leaf': min_samples_leaf, 'max_depth': max_depth}\n",
        "\n",
        "# Fit the random search model\n",
        "rf_random = RandomizedSearchCV(estimator=forest_cls, param_distributions=random_grid, cv=3, verbose=2, random_state=42)\n",
        "rf_random.fit(X_train, y_train)\n",
        "rf_random.best_params_"
      ]
    },
    {
      "cell_type": "code",
      "execution_count": null,
      "id": "c2fb0727",
      "metadata": {
        "id": "c2fb0727"
      },
      "outputs": [],
      "source": [
        "forest_cls = RandomForestClassifier(criterion=\"gini\", random_state=42, n_estimators=50, max_features=\"sqrt\", min_samples_leaf=1, max_depth=5) \n",
        "forest_cls = forest_cls.fit(X_train, y_train) # train it\n",
        "housing_predictions = forest_cls.predict(X_test) # predict the cost of houses in the test set\n",
        "\n",
        "accuracy = accuracy_score(y_test, housing_predictions) # check the error\n",
        "accuracy"
      ]
    },
    {
      "cell_type": "code",
      "source": [
        "forest_cls.get_params()"
      ],
      "metadata": {
        "id": "k7aLujwJQM3O"
      },
      "id": "k7aLujwJQM3O",
      "execution_count": null,
      "outputs": []
    }
  ],
  "metadata": {
    "kernelspec": {
      "display_name": "Python 3 (ipykernel)",
      "language": "python",
      "name": "python3"
    },
    "language_info": {
      "codemirror_mode": {
        "name": "ipython",
        "version": 3
      },
      "file_extension": ".py",
      "mimetype": "text/x-python",
      "name": "python",
      "nbconvert_exporter": "python",
      "pygments_lexer": "ipython3",
      "version": "3.10.2"
    },
    "colab": {
      "name": "03-Housing-MachineLearning.ipynb",
      "provenance": [],
      "include_colab_link": true
    }
  },
  "nbformat": 4,
  "nbformat_minor": 5
}